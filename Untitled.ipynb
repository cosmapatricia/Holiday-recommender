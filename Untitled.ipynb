{
 "cells": [
  {
   "cell_type": "code",
   "execution_count": 29,
   "metadata": {},
   "outputs": [],
   "source": [
    "run -i \"parser.py\""
   ]
  },
  {
   "cell_type": "code",
   "execution_count": 33,
   "metadata": {},
   "outputs": [
    {
     "name": "stdout",
     "output_type": "stream",
     "text": [
      "File has been opened\n",
      "['Venetia', 'Paris', 'Grecia']\n",
      "\n",
      "Inference data: \n",
      "{'Venetia': ['italian food', 'carnival'], 'Paris': ['croissant', 'romantism', 'capital'], 'litoral': ['soare', 'mare', 'nisip'], 'Grecia': ['litoral', 'souvlaki']}\n",
      "['italian food', 'carnival', 'croissant', 'romantism', 'capital', 'soare', 'mare', 'nisip', 'litoral', 'souvlaki']\n",
      "['litoral']\n",
      "['Venetia', 'Paris', 'Grecia']\n",
      "\n",
      "\n",
      "Venetia\n",
      "0\n",
      "Grecia\n"
     ]
    }
   ],
   "source": [
    "run -i \"inference.py\""
   ]
  },
  {
   "cell_type": "code",
   "execution_count": null,
   "metadata": {},
   "outputs": [],
   "source": []
  },
  {
   "cell_type": "code",
   "execution_count": null,
   "metadata": {},
   "outputs": [],
   "source": []
  },
  {
   "cell_type": "code",
   "execution_count": null,
   "metadata": {},
   "outputs": [],
   "source": []
  }
 ],
 "metadata": {
  "kernelspec": {
   "display_name": "Python 3",
   "language": "python",
   "name": "python3"
  },
  "language_info": {
   "codemirror_mode": {
    "name": "ipython",
    "version": 3
   },
   "file_extension": ".py",
   "mimetype": "text/x-python",
   "name": "python",
   "nbconvert_exporter": "python",
   "pygments_lexer": "ipython3",
   "version": "3.6.8"
  }
 },
 "nbformat": 4,
 "nbformat_minor": 2
}
