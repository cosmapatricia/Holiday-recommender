{
 "cells": [
  {
   "cell_type": "code",
   "execution_count": 23,
   "metadata": {},
   "outputs": [],
   "source": [
    "run -i \"parser.py\""
   ]
  },
  {
   "cell_type": "code",
   "execution_count": 24,
   "metadata": {},
   "outputs": [
    {
     "name": "stdout",
     "output_type": "stream",
     "text": [
      "File has been opened\n",
      "\n",
      "Inference data: \n",
      "\n",
      "Rules: \n",
      "{'Venice': ['italian food', 'go to carnivals', 'have a romantic time', 'Europe'], 'Paris': ['french food', 'have a romantic time', 'capital', 'Europe', 'shop at designer boutiques'], 'London': ['Europe', 'capitala', 'visit historical places', 'sightseeing'], 'seaside': ['sea', 'sunbathe'], 'Greece': ['seaside', 'greek food', 'Europe'], 'Lefkada': ['Greece', 'diving', 'island'], 'Santorini': ['Greece', 'high-end', 'island'], 'Atena': ['Europe', 'greek food', 'sightseeing', 'visit historical places', 'capital'], 'Meteora': ['Europe', 'visit religious places', 'greek food', 'quiet'], 'Hawaii': ['North America', 'seaside', 'exotic', 'island', 'high-end', 'relaxing', 'quiet'], 'Cancun': ['seaside', 'exotic', 'mexican food', 'party all night'], 'Vienna': ['Europe', 'capital', 'opera or theater'], 'Istanbul': ['shop at bazaars', 'turkish food', 'party all night'], 'Rome': ['capital', 'Europe', 'italian food', 'visit historical places and sightseeing'], 'New York': ['North America', 'sightseeing', 'bustling'], 'Spain': ['seaside', 'Europe', 'spanish food'], 'Turkey': ['seaside', 'Europe', 'turkish food'], 'Italy': ['seaside', 'Europe', 'italian food'], 'Indonesia': ['seaside', 'Asia', 'relaxing'], 'Bali': ['Indonesia', 'quiet'], 'Rio de Janeiro': ['South America', 'go to carnivals'], 'Maldives': ['Asia', 'island', 'exotic', 'high-end', 'seaside', 'relaxing', 'quiet'], 'Cape Town': ['Africa', 'relaxing', 'seaside'], 'Sydney': ['Australia', 'capitala', 'sightseeing', 'bustling'], 'La Thuile': ['mountain', 'ski', 'sports', 'Europe', 'italian food'], 'Chamonix': ['mountain', 'ski', 'Europe', 'sports', 'french food'], \"King's Route\": ['mountain', 'sports', 'hiking', 'Europe', 'spanish food'], 'Plitvice Lakes': ['mountain', 'sports', 'hiking', 'serbian food', 'Europe'], 'Tenerife': ['Spain', 'island'], 'Dubai': ['Turkey', 'high-end', 'bustling'], 'Bari': ['Italy', 'sightseeing']}\n",
      "\n",
      "Premises: \n",
      "['italian food', 'go to carnivals', 'have a romantic time', 'Europe', 'french food', 'have a romantic time', 'capital', 'Europe', 'shop at designer boutiques', 'Europe', 'capitala', 'visit historical places', 'sightseeing', 'sea', 'sunbathe', 'seaside', 'greek food', 'Europe', 'Greece', 'diving', 'island', 'Greece', 'high-end', 'island', 'Europe', 'greek food', 'sightseeing', 'visit historical places', 'capital', 'Europe', 'visit religious places', 'greek food', 'quiet', 'North America', 'seaside', 'exotic', 'island', 'high-end', 'relaxing', 'quiet', 'seaside', 'exotic', 'mexican food', 'party all night', 'Europe', 'capital', 'opera or theater', 'shop at bazaars', 'turkish food', 'party all night', 'capital', 'Europe', 'italian food', 'visit historical places and sightseeing', 'North America', 'sightseeing', 'bustling', 'seaside', 'Europe', 'spanish food', 'seaside', 'Europe', 'turkish food', 'seaside', 'Europe', 'italian food', 'seaside', 'Asia', 'relaxing', 'Indonesia', 'quiet', 'South America', 'go to carnivals', 'Asia', 'island', 'exotic', 'high-end', 'seaside', 'relaxing', 'quiet', 'Africa', 'relaxing', 'seaside', 'Australia', 'capitala', 'sightseeing', 'bustling', 'mountain', 'ski', 'sports', 'Europe', 'italian food', 'mountain', 'ski', 'Europe', 'sports', 'french food', 'mountain', 'sports', 'hiking', 'Europe', 'spanish food', 'mountain', 'sports', 'hiking', 'serbian food', 'Europe', 'Spain', 'island', 'Turkey', 'high-end', 'bustling', 'Italy', 'sightseeing']\n",
      "\n",
      "Partial conclusions: \n",
      "['seaside', 'Greece', 'Istanbul', 'Spain', 'Turkey', 'Italy', 'Indonesia']\n",
      "\n",
      "Final conclusions: \n",
      "['Venice', 'Paris', 'London', 'Lefkada', 'Santorini', 'Atena', 'Meteora', 'Hawaii', 'Cancun', 'Vienna', 'Instanbul', 'Rome', 'New York', 'Bali', 'Rio de Janeiro', 'Maldives', 'Cape Town', 'Sydney', 'La Thuile', 'Chamonix', \"King's Route\", 'Plitvice Lakes', 'Tenerife', 'Dubai', 'Bari']\n",
      "\n",
      "\n",
      "0\n",
      "0\n",
      "0\n",
      "Lefkada\n",
      "0\n",
      "0\n",
      "0\n",
      "0\n",
      "0\n",
      "0\n",
      "0\n",
      "0\n",
      "0\n",
      "0\n",
      "0\n",
      "0\n",
      "0\n",
      "0\n",
      "0\n",
      "0\n",
      "0\n",
      "0\n",
      "0\n",
      "0\n",
      "0\n"
     ]
    }
   ],
   "source": [
    "run -i \"inference.py\""
   ]
  },
  {
   "cell_type": "code",
   "execution_count": null,
   "metadata": {},
   "outputs": [],
   "source": []
  },
  {
   "cell_type": "code",
   "execution_count": null,
   "metadata": {},
   "outputs": [],
   "source": []
  },
  {
   "cell_type": "code",
   "execution_count": null,
   "metadata": {},
   "outputs": [],
   "source": []
  }
 ],
 "metadata": {
  "kernelspec": {
   "display_name": "Python 3",
   "language": "python",
   "name": "python3"
  },
  "language_info": {
   "codemirror_mode": {
    "name": "ipython",
    "version": 3
   },
   "file_extension": ".py",
   "mimetype": "text/x-python",
   "name": "python",
   "nbconvert_exporter": "python",
   "pygments_lexer": "ipython3",
   "version": "3.7.1"
  }
 },
 "nbformat": 4,
 "nbformat_minor": 2
}
