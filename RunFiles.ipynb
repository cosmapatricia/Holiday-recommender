{
 "cells": [
  {
   "cell_type": "code",
   "execution_count": 1,
   "metadata": {},
   "outputs": [],
   "source": [
    "run -i \"parser.py\""
   ]
  },
  {
   "cell_type": "code",
   "execution_count": 2,
   "metadata": {},
   "outputs": [
    {
     "name": "stdout",
     "output_type": "stream",
     "text": [
      "File has been opened\n",
      "\n",
      "Inference data: \n",
      "\n",
      "Rules: \n",
      "{'Venice': ['italian food', 'go to carnivals', 'have a romantic time', 'Europe'], 'Paris': ['french food', 'have a romantic time', 'capital', 'Europe', 'shop at designer boutiques'], 'London': ['Europe', 'capital', 'visit historical places', 'sightseeing'], 'seaside': ['sea', 'sunbathe'], 'Greece': ['seaside', 'greek food', 'Europe'], 'Lefkada': ['Greece', 'diving', 'island'], 'Santorini': ['Greece', 'high-end', 'island'], 'Atena': ['Europe', 'greek food', 'sightseeing', 'visit historical places', 'capital'], 'Meteora': ['Europe', 'visit religious places', 'greek food', 'quiet'], 'Hawaii': ['North America', 'seaside', 'exotic', 'island', 'high-end', 'relaxing', 'quiet'], 'Cancun': ['seaside', 'exotic', 'mexican food', 'party all night'], 'Vienna': ['Europe', 'capital', 'opera or theater'], 'Istanbul': ['shop at bazaars', 'turkish food', 'party all night'], 'Rome': ['capital', 'Europe', 'italian food', 'visit historical places and sightseeing'], 'New York': ['North America', 'sightseeing', 'bustling'], 'Spain': ['seaside', 'Europe', 'spanish food'], 'Turkey': ['seaside', 'Europe', 'turkish food'], 'Italy': ['seaside', 'Europe', 'italian food'], 'Indonesia': ['seaside', 'Asia', 'relaxing'], 'Bali': ['Indonesia', 'quiet'], 'Rio de Janeiro': ['South America', 'go to carnivals'], 'Maldives': ['Asia', 'island', 'exotic', 'high-end', 'seaside', 'relaxing', 'quiet'], 'Cape Town': ['Africa', 'relaxing', 'seaside'], 'Sydney': ['Australia', 'capital', 'sightseeing', 'bustling'], 'La Thuile': ['mountain', 'ski', 'sports', 'Europe', 'italian food'], 'Chamonix': ['mountain', 'ski', 'Europe', 'sports', 'french food'], \"King's Route\": ['mountain', 'sports', 'hiking', 'Europe', 'spanish food'], 'Plitvice Lakes': ['mountain', 'sports', 'hiking', 'serbian food', 'Europe'], 'Tenerife': ['Spain', 'island'], 'Dubai': ['Turkey', 'high-end', 'bustling'], 'Bari': ['Italy', 'sightseeing']}\n",
      "\n",
      "Premises: \n",
      "['italian food', 'go to carnivals', 'have a romantic time', 'Europe', 'french food', 'capital', 'shop at designer boutiques', 'visit historical places', 'sightseeing', 'sea', 'sunbathe', 'seaside', 'greek food', 'Greece', 'diving', 'island', 'high-end', 'visit religious places', 'quiet', 'North America', 'exotic', 'relaxing', 'mexican food', 'party all night', 'opera or theater', 'shop at bazaars', 'turkish food', 'visit historical places and sightseeing', 'bustling', 'spanish food', 'Asia', 'Indonesia', 'South America', 'Africa', 'Australia', 'mountain', 'ski', 'sports', 'hiking', 'serbian food', 'Spain', 'Turkey', 'Italy']\n",
      "\n",
      "Partial conclusions: \n",
      "['seaside', 'Greece', 'Istanbul', 'Spain', 'Turkey', 'Italy', 'Indonesia']\n",
      "\n",
      "Final conclusions: \n",
      "['Venice', 'Paris', 'London', 'Lefkada', 'Santorini', 'Atena', 'Meteora', 'Hawaii', 'Cancun', 'Vienna', 'Instanbul', 'Rome', 'New York', 'Bali', 'Rio de Janeiro', 'Maldives', 'Cape Town', 'Sydney', 'La Thuile', 'Chamonix', \"King's Route\", 'Plitvice Lakes', 'Tenerife', 'Dubai', 'Bari']\n",
      "\n",
      "\n",
      "Lefkada\n"
     ]
    }
   ],
   "source": [
    "run -i \"inference.py\""
   ]
  },
  {
   "cell_type": "code",
   "execution_count": null,
   "metadata": {},
   "outputs": [],
   "source": []
  },
  {
   "cell_type": "code",
   "execution_count": null,
   "metadata": {},
   "outputs": [],
   "source": []
  },
  {
   "cell_type": "code",
   "execution_count": null,
   "metadata": {},
   "outputs": [],
   "source": []
  }
 ],
 "metadata": {
  "kernelspec": {
   "display_name": "Python 3",
   "language": "python",
   "name": "python3"
  },
  "language_info": {
   "codemirror_mode": {
    "name": "ipython",
    "version": 3
   },
   "file_extension": ".py",
   "mimetype": "text/x-python",
   "name": "python",
   "nbconvert_exporter": "python",
   "pygments_lexer": "ipython3",
   "version": "3.6.8"
  }
 },
 "nbformat": 4,
 "nbformat_minor": 2
}
